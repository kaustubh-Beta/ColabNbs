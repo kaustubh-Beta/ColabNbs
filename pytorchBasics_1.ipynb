{
  "nbformat": 4,
  "nbformat_minor": 0,
  "metadata": {
    "colab": {
      "name": "pytorchBasics_1.ipynb",
      "version": "0.3.2",
      "provenance": [],
      "collapsed_sections": [],
      "include_colab_link": true
    },
    "kernelspec": {
      "name": "python3",
      "display_name": "Python 3"
    },
    "accelerator": "GPU"
  },
  "cells": [
    {
      "cell_type": "markdown",
      "metadata": {
        "id": "view-in-github",
        "colab_type": "text"
      },
      "source": [
        "<a href=\"https://colab.research.google.com/github/kaustubh-Beta/ColabNbs/blob/master/pytorchBasics_1.ipynb\" target=\"_parent\"><img src=\"https://colab.research.google.com/assets/colab-badge.svg\" alt=\"Open In Colab\"/></a>"
      ]
    },
    {
      "cell_type": "markdown",
      "metadata": {
        "id": "-n0dYocsazYM",
        "colab_type": "text"
      },
      "source": [
        "# Pytorch basics 1\n",
        "\n",
        "In this tutorial we will learn the following :\n",
        "\n",
        "1.  Tensors in Pytorch\n",
        "2.  Operations with tensors\n",
        "3.  Inter-conversion of numpy array and pytorch tensors \n"
      ]
    },
    {
      "cell_type": "code",
      "metadata": {
        "id": "MUNYZul-UdD9",
        "colab_type": "code",
        "colab": {}
      },
      "source": [
        "from __future__ import print_function\n",
        "import torch\n",
        "import numpy as np"
      ],
      "execution_count": 0,
      "outputs": []
    },
    {
      "cell_type": "markdown",
      "metadata": {
        "id": "gN10MjW9bbAP",
        "colab_type": "text"
      },
      "source": [
        "## Creating tensors in pytorch\n",
        "\n",
        "---\n",
        "\n",
        "### 1. Creating an uninitialized tensor"
      ]
    },
    {
      "cell_type": "code",
      "metadata": {
        "id": "kGbEpr7IbaAY",
        "colab_type": "code",
        "outputId": "3b980084-720d-4f72-95b7-92b0ad585a7e",
        "colab": {
          "base_uri": "https://localhost:8080/",
          "height": 68
        }
      },
      "source": [
        "# Construction an uninitialized matrix\n",
        "A = torch.empty(3,3)\n",
        "print(A)\n",
        "# NOTE : the above empty method returns a tensor with garbage values of dtype torch.float32"
      ],
      "execution_count": 0,
      "outputs": [
        {
          "output_type": "stream",
          "text": [
            "tensor([[2.7556e-36, 0.0000e+00, 3.3631e-44],\n",
            "        [0.0000e+00,        nan, 0.0000e+00],\n",
            "        [1.1578e+27, 1.1362e+30, 7.1547e+22]])\n"
          ],
          "name": "stdout"
        }
      ]
    },
    {
      "cell_type": "markdown",
      "metadata": {
        "id": "SjDREjqNdFUr",
        "colab_type": "text"
      },
      "source": [
        "### 2. Creating a ramndomly initialized tensor"
      ]
    },
    {
      "cell_type": "code",
      "metadata": {
        "id": "kEP8PeuNc4n1",
        "colab_type": "code",
        "outputId": "1beea8ab-0a72-4d03-a72e-a79c6e8b44f4",
        "colab": {
          "base_uri": "https://localhost:8080/",
          "height": 68
        }
      },
      "source": [
        "torch.torch.manual_seed(7) # Set initial seed value to generate same random values every time\n",
        "A1 = torch.rand(3,3)\n",
        "print(A1)"
      ],
      "execution_count": 0,
      "outputs": [
        {
          "output_type": "stream",
          "text": [
            "tensor([[0.5349, 0.1988, 0.6592],\n",
            "        [0.6569, 0.2328, 0.4251],\n",
            "        [0.2071, 0.6297, 0.3653]])\n"
          ],
          "name": "stdout"
        }
      ]
    },
    {
      "cell_type": "markdown",
      "metadata": {
        "id": "S-R6XcLmen39",
        "colab_type": "text"
      },
      "source": [
        "### 3.  Creating a tensor with all the elements zero"
      ]
    },
    {
      "cell_type": "code",
      "metadata": {
        "id": "n_WhmqcLfcRb",
        "colab_type": "code",
        "outputId": "cd50e07a-04ea-41a9-e1a3-9da38ea7c641",
        "colab": {
          "base_uri": "https://localhost:8080/",
          "height": 68
        }
      },
      "source": [
        "A = torch.zeros(3,3, dtype = torch.float32)\n",
        "print(A)"
      ],
      "execution_count": 0,
      "outputs": [
        {
          "output_type": "stream",
          "text": [
            "tensor([[0., 0., 0.],\n",
            "        [0., 0., 0.],\n",
            "        [0., 0., 0.]])\n"
          ],
          "name": "stdout"
        }
      ]
    },
    {
      "cell_type": "markdown",
      "metadata": {
        "id": "c1xjNedClYKc",
        "colab_type": "text"
      },
      "source": [
        "### 4. Creating the tensors directly from data"
      ]
    },
    {
      "cell_type": "code",
      "metadata": {
        "id": "GsetYAcUfrJk",
        "colab_type": "code",
        "outputId": "3bf5b164-8d86-40c7-de6f-8791f2d6acb0",
        "colab": {
          "base_uri": "https://localhost:8080/",
          "height": 34
        }
      },
      "source": [
        "A2 = torch.tensor([5,6,7],dtype=torch.float32)\n",
        "print(A2)"
      ],
      "execution_count": 0,
      "outputs": [
        {
          "output_type": "stream",
          "text": [
            "tensor([5., 6., 7.])\n"
          ],
          "name": "stdout"
        }
      ]
    },
    {
      "cell_type": "markdown",
      "metadata": {
        "id": "JUOt6w6fls9N",
        "colab_type": "text"
      },
      "source": [
        "## Operations with tensors\n",
        "\n",
        "\n",
        "---\n",
        "\n",
        "### 1. Addition operation"
      ]
    },
    {
      "cell_type": "code",
      "metadata": {
        "id": "amMIsF-O32yt",
        "colab_type": "code",
        "outputId": "22ecb964-8d97-42ef-e386-f79058daf035",
        "colab": {
          "base_uri": "https://localhost:8080/",
          "height": 425
        }
      },
      "source": [
        "torch.torch.manual_seed\n",
        "a = torch.rand(3,3)\n",
        "b = torch.rand(3,3)\n",
        "print(\"Input array 1 \\n%r\"%a)\n",
        "print(\"Input array 2 \\n%r\"%b)\n",
        "\n",
        "# Addition syntax 1\n",
        "c1 = a+b\n",
        "\n",
        "# Addition syntax 2\n",
        "c2 = torch.add(a,b)\n",
        "\n",
        "# Addition syntax 3\n",
        "c3 = torch.empty(3,3)\n",
        "torch.add(a,b, out = c3)\n",
        "\n",
        "# Addition syntax 4\n",
        "c4 = torch.torch.clone(b)\n",
        "c4.add_(a)\n",
        "\n",
        "print(\"Method 1 output \\n%r\"%c1)\n",
        "print(\"Method 2 output \\n%r\"%c2)\n",
        "print(\"Method 3 output \\n%r\"%c3)\n",
        "print(\"Method 3 output \\n%r\"%c4)\n"
      ],
      "execution_count": 0,
      "outputs": [
        {
          "output_type": "stream",
          "text": [
            "Input array 1 \n",
            "tensor([[0.8513, 0.8549, 0.5509],\n",
            "        [0.2868, 0.2063, 0.4451],\n",
            "        [0.3593, 0.7204, 0.0731]])\n",
            "Input array 2 \n",
            "tensor([[0.9699, 0.1078, 0.8829],\n",
            "        [0.4132, 0.7572, 0.6948],\n",
            "        [0.5209, 0.5932, 0.8797]])\n",
            "Method 1 output \n",
            "tensor([[1.8212, 0.9627, 1.4338],\n",
            "        [0.7000, 0.9635, 1.1399],\n",
            "        [0.8802, 1.3136, 0.9528]])\n",
            "Method 2 output \n",
            "tensor([[1.8212, 0.9627, 1.4338],\n",
            "        [0.7000, 0.9635, 1.1399],\n",
            "        [0.8802, 1.3136, 0.9528]])\n",
            "Method 3 output \n",
            "tensor([[1.8212, 0.9627, 1.4338],\n",
            "        [0.7000, 0.9635, 1.1399],\n",
            "        [0.8802, 1.3136, 0.9528]])\n",
            "Method 3 output \n",
            "tensor([[1.8212, 0.9627, 1.4338],\n",
            "        [0.7000, 0.9635, 1.1399],\n",
            "        [0.8802, 1.3136, 0.9528]])\n"
          ],
          "name": "stdout"
        }
      ]
    },
    {
      "cell_type": "markdown",
      "metadata": {
        "id": "7FW1ltmQ7mTm",
        "colab_type": "text"
      },
      "source": [
        "### 2. Multiplication of tensros \n",
        "\n",
        "2.A. Dot product\n",
        "\n",
        "2.B. Cross product or matrix multiplication\n",
        "\n",
        "2.C. Element wise multiplication"
      ]
    },
    {
      "cell_type": "code",
      "metadata": {
        "id": "eQyl3caD7EHZ",
        "colab_type": "code",
        "outputId": "b9318048-ee6a-463a-8150-f96d0aee9aa7",
        "colab": {
          "base_uri": "https://localhost:8080/",
          "height": 272
        }
      },
      "source": [
        "# torch.dot() only takes 1D tensors\n",
        "\n",
        "a1 = torch.tensor([1,1,1])\n",
        "a2 = torch.tensor([1,1,1])\n",
        "\n",
        "c_dot = torch.dot(a1,a2)\n",
        "c_cross = torch.cross(a1,a2)\n",
        "print(\"Input arrays \\na1 %r \\na2 %r\"%(a1,a2))\n",
        "print(\"output of dot product : %r\"%c_dot)\n",
        "print(\"output of cross product : %r\"%c_cross)\n",
        "\n",
        "a = torch.tensor([[1,0],[0,1]])\n",
        "b = torch.tensor([[3,4],[2,1]])\n",
        "\n",
        "c_element_wise = torch.mul(a,b) # same can be done with a*b\n",
        "c_matrix_mul = torch.mm(a,b)\n",
        "\n",
        "print(\"\\n\\nInput arrays \\na %r \\nb %r\"%(a,b))\n",
        "print(\"Output for element wise multiplication\"%c_element_wise)\n",
        "print(\"Output for normal matrix multiplication\"%c_matrix_mul)\n"
      ],
      "execution_count": 0,
      "outputs": [
        {
          "output_type": "stream",
          "text": [
            "Input arrays \n",
            "a1 tensor([1, 1, 1]) \n",
            "a2 tensor([1, 1, 1])\n",
            "output of dot product : tensor(3)\n",
            "output of cross product : tensor([0, 0, 0])\n",
            "output of matmul : tensor(3)\n",
            "\n",
            "\n",
            "Input arrays \n",
            "a tensor([[1, 0],\n",
            "        [0, 1]]) \n",
            "b tensor([[3, 4],\n",
            "        [2, 1]])\n",
            "Output for element wise multiplication\n",
            "Output for normal matrix multiplication\n"
          ],
          "name": "stdout"
        }
      ]
    },
    {
      "cell_type": "markdown",
      "metadata": {
        "id": "fSWBR8OkkRmT",
        "colab_type": "text"
      },
      "source": [
        "## Converting torch tensor to numpy array\n",
        "\n",
        "---\n",
        "\n"
      ]
    },
    {
      "cell_type": "code",
      "metadata": {
        "id": "cAJNItKrkYFa",
        "colab_type": "code",
        "outputId": "9f744f7e-3b79-4a46-a6d7-a35f1282f13b",
        "colab": {
          "base_uri": "https://localhost:8080/",
          "height": 374
        }
      },
      "source": [
        "a = torch.ones(5)\n",
        "print(\"Value of tensor a = %r\"%a)\n",
        "\n",
        "a_numpy = a.numpy()\n",
        "print(\"Value of numpy version of a = %r\"%a_numpy)\n",
        "\n",
        "print(\"\\n\\nIncrementing all element of just the tensor a by 1 ...\\n\\n\")\n",
        "a+=1\n",
        "\n",
        "print(\"Updated value of tensor a = %r\"%a)\n",
        "print(\"Updated value of numpy version of a = %r\"%a_numpy)\n",
        "\n",
        "print(\"\\nnow creating a tensor using a numpy array .... \\n\")\n",
        "\n",
        "x = np.array([1,2,3,4],dtype=np.float32)\n",
        "x_tensor = torch.from_numpy(x)\n",
        "\n",
        "print(\"Numpy array x = %r\"%x)\n",
        "print(\"Tensor form of the numpy array x = %r\"%x_tensor)\n",
        "\n",
        "print(\"\\nchanging the value of the tensor form of x...\")\n",
        "x_tensor+=1\n",
        "\n",
        "print(\"Updated value of tensor form of x = %r\"%x_tensor)\n",
        "print(\"Updated value of the numpy array x = %r\"%x)\n",
        "\n",
        "print(\"\\n\\nNOTE : change in either the tensor or corresponding numpy array automatically replicates the change in the other\")"
      ],
      "execution_count": 0,
      "outputs": [
        {
          "output_type": "stream",
          "text": [
            "Value of tensor a = tensor([1., 1., 1., 1., 1.])\n",
            "Value of numpy version of a = array([1., 1., 1., 1., 1.], dtype=float32)\n",
            "\n",
            "\n",
            "Incrementing all element of just the tensor a by 1 ...\n",
            "\n",
            "\n",
            "Updated value of tensor a = tensor([2., 2., 2., 2., 2.])\n",
            "Updated value of numpy version of a = array([2., 2., 2., 2., 2.], dtype=float32)\n",
            "\n",
            "now creating a tensor using a numpy array .... \n",
            "\n",
            "Numpy array x = array([1., 2., 3., 4.], dtype=float32)\n",
            "Tensor form of the numpy array x = tensor([1., 2., 3., 4.])\n",
            "\n",
            "changing the value of the tensor form of x...\n",
            "Updated value of tensor form of x = tensor([2., 3., 4., 5.])\n",
            "Updated value of the numpy array x = array([2., 3., 4., 5.], dtype=float32)\n",
            "\n",
            "\n",
            "NOTE : change in either the tensor or corresponding numpy array automatically replicates the change in the other\n"
          ],
          "name": "stdout"
        }
      ]
    }
  ]
}