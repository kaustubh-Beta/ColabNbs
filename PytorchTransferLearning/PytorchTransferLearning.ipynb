{
  "nbformat": 4,
  "nbformat_minor": 0,
  "metadata": {
    "colab": {
      "name": "PytorchTransferLearning.ipynb",
      "version": "0.3.2",
      "provenance": [],
      "collapsed_sections": [],
      "toc_visible": true,
      "include_colab_link": true
    },
    "kernelspec": {
      "name": "python3",
      "display_name": "Python 3"
    }
  },
  "cells": [
    {
      "cell_type": "markdown",
      "metadata": {
        "id": "view-in-github",
        "colab_type": "text"
      },
      "source": [
        "<a href=\"https://colab.research.google.com/github/kaustubh-Beta/ColabNbs/blob/master/PytorchTransferLearning/PytorchTransferLearning.ipynb\" target=\"_parent\"><img src=\"https://colab.research.google.com/assets/colab-badge.svg\" alt=\"Open In Colab\"/></a>"
      ]
    },
    {
      "cell_type": "markdown",
      "metadata": {
        "id": "i8fLpz-TYz5G",
        "colab_type": "text"
      },
      "source": [
        "# Transfer learning using Pytorch\n"
      ]
    },
    {
      "cell_type": "markdown",
      "metadata": {
        "id": "kcadcHQSZNwj",
        "colab_type": "text"
      },
      "source": [
        "### 1. Downloading Caltech101 dataset"
      ]
    },
    {
      "cell_type": "code",
      "metadata": {
        "id": "YkA4pewOZY0u",
        "colab_type": "code",
        "outputId": "7979467b-b582-4046-b777-5b397c4dc4db",
        "colab": {
          "base_uri": "https://localhost:8080/",
          "height": 68
        }
      },
      "source": [
        "!echo \"Downloading 101_Object_Categories for image notebooks\"\n",
        "!curl -L -o 101_ObjectCategories.tar.gz --progress-bar http://www.vision.caltech.edu/Image_Datasets/Caltech101/101_ObjectCategories.tar.gz\n",
        "!tar -xzf 101_ObjectCategories.tar.gz\n",
        "!rm 101_ObjectCategories.tar.gz\n",
        "!ls"
      ],
      "execution_count": 0,
      "outputs": [
        {
          "output_type": "stream",
          "text": [
            "Downloading 101_Object_Categories for image notebooks\n",
            "######################################################################## 100.0%\n",
            "101_ObjectCategories  sample_data\n"
          ],
          "name": "stdout"
        }
      ]
    },
    {
      "cell_type": "markdown",
      "metadata": {
        "id": "SozybvL0b9Hs",
        "colab_type": "text"
      },
      "source": [
        "#### Observing the dataset\n",
        "We display first 5 images of any desired class. In the left column click on the Files tab to get different folders. Naviagte through the 101_ObjectCategories folder to know different classes in the dataset."
      ]
    },
    {
      "cell_type": "code",
      "metadata": {
        "id": "hoS4TgHOb3_k",
        "colab_type": "code",
        "colab": {}
      },
      "source": [
        "%matplotlib inline\n",
        "import numpy as np\n",
        "import cv2\n",
        "import matplotlib.pyplot as plt\n",
        "\n",
        "fig=plt.figure(figsize=(10, 10))\n",
        "columns = 5\n",
        "rows = 1\n",
        "\n",
        "root = '101_ObjectCategories/'\n",
        "class_folder = 'crab/'\n",
        "\n",
        "for i in range(1,columns*rows+1):\n",
        "  img = cv2.imread(root+class_folder+'image_000%d.jpg'%i,-1)\n",
        "  imgRgb = cv2.cvtColor(img,cv2.COLOR_BGR2RGB)\n",
        "  fig.add_subplot(rows, columns, i)\n",
        "  plt.imshow(imgRgb)\n",
        "plt.show()"
      ],
      "execution_count": 0,
      "outputs": []
    },
    {
      "cell_type": "markdown",
      "metadata": {
        "id": "rghNpvdFlEmP",
        "colab_type": "text"
      },
      "source": [
        "#### Preparing the data"
      ]
    },
    {
      "cell_type": "code",
      "metadata": {
        "id": "b0hqeGAY8d-n",
        "colab_type": "code",
        "colab": {
          "base_uri": "https://localhost:8080/",
          "height": 34
        },
        "outputId": "0215746c-2543-4e13-8545-11e20a7e8b27"
      },
      "source": [
        "!bash data_prep.sh airplanes bonsai brain buddha butterfly ewer Faces grand_piano hawksbill helicopter"
      ],
      "execution_count": 22,
      "outputs": [
        {
          "output_type": "stream",
          "text": [
            "Done Bro !\n"
          ],
          "name": "stdout"
        }
      ]
    }
  ]
}